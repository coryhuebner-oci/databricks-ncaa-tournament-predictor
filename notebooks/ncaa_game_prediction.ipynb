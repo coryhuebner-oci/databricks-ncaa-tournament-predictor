{
 "cells": [
  {
   "cell_type": "markdown",
   "metadata": {},
   "source": [
    "# NCAA Game Prediction\n",
    "\n",
    "This notebook runs through the tasks required to setup the Feature Store/ML portion of the pipeline that can't leverage Databricks Connect. It's separated into it's own notebook as the Feature Engineering library doesn't seem to play nice with Databricks Connect; this needs to be run directly within the Databricks console instead of being run locally.\n",
    "\n",
    "Supporting evidence that this won't work with Databricks Connect:\n",
    "- [Limitations](https://docs.databricks.com/aws/en/machine-learning/feature-store/python-api#limitations)\n",
    "- [Random internet guy mad about the same thing](https://community.databricks.com/t5/data-engineering/featureengineeringclient-and-databricks-connect/td-p/96918)"
   ]
  },
  {
   "cell_type": "code",
   "execution_count": null,
   "metadata": {},
   "outputs": [],
   "source": [
    "%pip install '..[machine-learning]'"
   ]
  },
  {
   "cell_type": "code",
   "execution_count": null,
   "metadata": {},
   "outputs": [],
   "source": [
    "dbutils.library.restartPython()"
   ]
  },
  {
   "cell_type": "code",
   "execution_count": null,
   "metadata": {},
   "outputs": [],
   "source": [
    "from ncaa_tournament_predictor.jobs import kaggle_stats\n",
    "\n",
    "kaggle_stats.convert_cleaned_kaggle_stats_to_feature_store(spark) # type: ignore"
   ]
  }
 ],
 "metadata": {
  "kernelspec": {
   "display_name": "databricks-ncaa-tournament-predictor-Y0X8jGzL-remote-databricks-cluster",
   "language": "python",
   "name": "python3"
  },
  "language_info": {
   "name": "python",
   "version": "3.12.9"
  }
 },
 "nbformat": 4,
 "nbformat_minor": 2
}

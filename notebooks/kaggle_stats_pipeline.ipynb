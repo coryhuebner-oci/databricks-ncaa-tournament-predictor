{
 "cells": [
  {
   "cell_type": "code",
   "execution_count": null,
   "metadata": {},
   "outputs": [],
   "source": [
    "# Create the staging Kaggle datasets table\n",
    "from ncaa_tournament_predictor.pipelines import kaggle_stats\n",
    "\n",
    "kaggle_stats.get_cleaned_kaggle_stats()"
   ]
  }
 ],
 "metadata": {
  "language_info": {
   "name": "python"
  }
 },
 "nbformat": 4,
 "nbformat_minor": 2
}
